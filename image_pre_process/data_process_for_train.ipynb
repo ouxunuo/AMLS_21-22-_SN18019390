{
 "cells": [
  {
   "cell_type": "markdown",
   "id": "3f3de562",
   "metadata": {},
   "source": [
    "# 1.read label.csv"
   ]
  },
  {
   "cell_type": "code",
   "execution_count": 1,
   "id": "20c6e4b6",
   "metadata": {},
   "outputs": [
    {
     "name": "stdout",
     "output_type": "stream",
     "text": [
      "0      meningioma_tumor\n",
      "1      meningioma_tumor\n",
      "2          glioma_tumor\n",
      "3       pituitary_tumor\n",
      "4          glioma_tumor\n",
      "             ...       \n",
      "195     pituitary_tumor\n",
      "196            no_tumor\n",
      "197    meningioma_tumor\n",
      "198            no_tumor\n",
      "199        glioma_tumor\n",
      "Name: label, Length: 200, dtype: object\n",
      "0      IMAGE_0000.jpg\n",
      "1      IMAGE_0001.jpg\n",
      "2      IMAGE_0002.jpg\n",
      "3      IMAGE_0003.jpg\n",
      "4      IMAGE_0004.jpg\n",
      "            ...      \n",
      "195    IMAGE_0195.jpg\n",
      "196    IMAGE_0196.jpg\n",
      "197    IMAGE_0197.jpg\n",
      "198    IMAGE_0198.jpg\n",
      "199    IMAGE_0199.jpg\n",
      "Name: file_name, Length: 200, dtype: object\n"
     ]
    }
   ],
   "source": [
    "import pandas as pd\n",
    "import os\n",
    "import shutil\n",
    "\n",
    "#Enter the correct path of dataset on your PC\n",
    "#Dataset here is the given training dataset\n",
    "mri_image = pd.read_csv('C:/Users/Xunuo/final/image_process/original_train/label.csv')\n",
    "tumorType = mri_image['label']\n",
    "fileName = mri_image['file_name']\n",
    "\n",
    "print(tumorType)\n",
    "print(fileName)"
   ]
  },
  {
   "cell_type": "markdown",
   "id": "8f57a801",
   "metadata": {},
   "source": [
    "# 2.split dataset into parts"
   ]
  },
  {
   "cell_type": "code",
   "execution_count": 2,
   "id": "5608fb30",
   "metadata": {},
   "outputs": [
    {
     "name": "stdout",
     "output_type": "stream",
     "text": [
      "4\n"
     ]
    }
   ],
   "source": [
    "classes = []\n",
    "for cur_tumorType in tumorType:\n",
    "    if cur_tumorType not in classes:\n",
    "        classes.append(cur_tumorType)\n",
    "print(len(classes))"
   ]
  },
  {
   "cell_type": "markdown",
   "id": "87a64a6b",
   "metadata": {},
   "source": [
    "# 3.create folders"
   ]
  },
  {
   "cell_type": "code",
   "execution_count": 3,
   "id": "7e49905b",
   "metadata": {},
   "outputs": [],
   "source": [
    "classes_dict = {}\n",
    "nb_test_dict = {}\n",
    "for i in range(len(classes)):\n",
    "    cur_label = i\n",
    "    cur_class = classes[i]\n",
    "    classes_dict[cur_class] = cur_label\n",
    "    \n",
    "    #create folder of same path as this notebook\n",
    "    os.makedirs(os.getcwd() + '/train_image/' + str(cur_label))\n",
    "    \n",
    "    nb_test_dict[cur_label] = 0\n"
   ]
  },
  {
   "cell_type": "markdown",
   "id": "8e2e7672",
   "metadata": {},
   "source": [
    "# 4.put each picture in the corresponding category folder"
   ]
  },
  {
   "cell_type": "code",
   "execution_count": 6,
   "id": "5d1e5c13",
   "metadata": {},
   "outputs": [],
   "source": [
    "for i in range(len(fileName)):\n",
    "    cur_fileName = fileName[i]\n",
    "    cur_type = tumorType[i]\n",
    "    belongs_to_label = classes_dict[cur_type]\n",
    "    new_path = os.getcwd() + '/train_image/' + str(belongs_to_label) + '/' + str(cur_fileName)\n",
    "    #Enter the correct path of dataset on your PC, and this path only contain images.\n",
    "    old_path = r'C:/Users/Xunuo/final/image_process/original_train/image/' + str(cur_fileName)\n",
    "    shutil.copyfile(old_path, new_path)"
   ]
  },
  {
   "cell_type": "markdown",
   "id": "bc326606",
   "metadata": {},
   "source": [
    "# 5.modify the folders\n",
    "\n",
    "file '0' = 'meningioma_tumor'  \n",
    "file '1' = 'no_tumor'  \n",
    "file '2' = 'glioma_tumor'  \n",
    "file '3' = 'pituitary_tumor'  \n",
    "\n",
    "Then I change the name of each file to corresponding name\n",
    "\n",
    "And build a new file to store images for binary classification task(Task 1) and split to 'no_tumor' and 'have_tumor'"
   ]
  },
  {
   "cell_type": "markdown",
   "id": "cafd44a5",
   "metadata": {},
   "source": []
  }
 ],
 "metadata": {
  "kernelspec": {
   "display_name": "tf2x",
   "language": "python",
   "name": "tf2x"
  },
  "language_info": {
   "codemirror_mode": {
    "name": "ipython",
    "version": 3
   },
   "file_extension": ".py",
   "mimetype": "text/x-python",
   "name": "python",
   "nbconvert_exporter": "python",
   "pygments_lexer": "ipython3",
   "version": "3.8.5"
  }
 },
 "nbformat": 4,
 "nbformat_minor": 5
}
