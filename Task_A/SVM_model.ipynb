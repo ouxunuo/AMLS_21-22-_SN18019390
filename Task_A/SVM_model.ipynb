{
 "cells": [
  {
   "cell_type": "code",
   "execution_count": 3,
   "id": "a8fef41a",
   "metadata": {},
   "outputs": [],
   "source": [
    "import pandas as pd\n",
    "from sklearn import svm\n",
    "from sklearn.model_selection import GridSearchCV\n",
    "import os\n",
    "import matplotlib.pyplot as plt\n",
    "from skimage.transform import resize\n",
    "from skimage.io import imread\n",
    "import numpy as np\n",
    "from sklearn.model_selection import train_test_split\n",
    "from sklearn.metrics import classification_report,accuracy_score,confusion_matrix\n",
    "import pickle"
   ]
  },
  {
   "cell_type": "code",
   "execution_count": 4,
   "id": "40ee072e",
   "metadata": {},
   "outputs": [
    {
     "name": "stdout",
     "output_type": "stream",
     "text": [
      "loading... category : no_tumor\n",
      "loaded category:no_tumor successfully\n",
      "loading... category : have_tumor\n",
      "loaded category:have_tumor successfully\n",
      "             0         1         2         3         4         5         6  \\\n",
      "0     0.118627  0.118627  0.118627  0.125490  0.125490  0.125490  0.134314   \n",
      "1     0.035294  0.035294  0.035294  0.035294  0.035294  0.035294  0.035294   \n",
      "2     0.003922  0.003922  0.003922  0.003922  0.003922  0.003922  0.003922   \n",
      "3     0.121569  0.121569  0.121569  0.121569  0.121569  0.121569  0.121569   \n",
      "4     0.045098  0.045098  0.045098  0.052941  0.052941  0.052941  0.060784   \n",
      "...        ...       ...       ...       ...       ...       ...       ...   \n",
      "2995  0.000000  0.000000  0.000000  0.000000  0.000000  0.000000  0.000000   \n",
      "2996  0.000000  0.000000  0.000000  0.000000  0.000000  0.000000  0.000000   \n",
      "2997  0.000000  0.000000  0.000000  0.000000  0.000000  0.000000  0.000000   \n",
      "2998  0.000000  0.000000  0.000000  0.000000  0.000000  0.000000  0.000000   \n",
      "2999  0.000000  0.000000  0.000000  0.000000  0.000000  0.000000  0.000000   \n",
      "\n",
      "             7         8         9  ...    196599    196600    196601  \\\n",
      "0     0.134314  0.134314  0.140196  ...  0.000980  0.000980  0.000980   \n",
      "1     0.035294  0.035294  0.035294  ...  0.031373  0.031373  0.031373   \n",
      "2     0.003922  0.003922  0.003922  ...  0.000000  0.000000  0.000000   \n",
      "3     0.121569  0.121569  0.121569  ...  0.036275  0.036275  0.036275   \n",
      "4     0.060784  0.060784  0.062745  ...  0.047059  0.047059  0.047059   \n",
      "...        ...       ...       ...  ...       ...       ...       ...   \n",
      "2995  0.000000  0.000000  0.000000  ...  0.000000  0.000000  0.000000   \n",
      "2996  0.000000  0.000000  0.000000  ...  0.000000  0.000000  0.000000   \n",
      "2997  0.000000  0.000000  0.000000  ...  0.000000  0.000000  0.000000   \n",
      "2998  0.000000  0.000000  0.000000  ...  0.003922  0.003922  0.003922   \n",
      "2999  0.000000  0.000000  0.000000  ...  0.000000  0.000000  0.000000   \n",
      "\n",
      "        196602    196603    196604    196605    196606    196607  Target  \n",
      "0     0.066667  0.066667  0.066667  0.309804  0.309804  0.309804       0  \n",
      "1     0.031373  0.031373  0.031373  0.031373  0.031373  0.031373       0  \n",
      "2     0.000000  0.000000  0.000000  0.000000  0.000000  0.000000       0  \n",
      "3     0.033333  0.033333  0.033333  0.031373  0.031373  0.031373       0  \n",
      "4     0.047059  0.047059  0.047059  0.047059  0.047059  0.047059       0  \n",
      "...        ...       ...       ...       ...       ...       ...     ...  \n",
      "2995  0.000000  0.000000  0.000000  0.000000  0.000000  0.000000       1  \n",
      "2996  0.000000  0.000000  0.000000  0.000000  0.000000  0.000000       1  \n",
      "2997  0.000000  0.000000  0.000000  0.000000  0.000000  0.000000       1  \n",
      "2998  0.003922  0.003922  0.003922  0.003922  0.003922  0.003922       1  \n",
      "2999  0.000000  0.000000  0.000000  0.000000  0.000000  0.000000       1  \n",
      "\n",
      "[3000 rows x 196609 columns]\n"
     ]
    }
   ],
   "source": [
    "Categories=['no_tumor','have_tumor']\n",
    "flat_data_arr=[] #input array\n",
    "target_arr=[] #output array\n",
    "datadir='C:/Users/Xunuo/final/task1_image/' \n",
    "#path which contains all the categories of images\n",
    "for i in Categories:\n",
    "    print(f'loading... category : {i}')\n",
    "    path=os.path.join(datadir,i)\n",
    "    for img in os.listdir(path):\n",
    "        img_array=imread(os.path.join(path,img))\n",
    "        img_resized=resize(img_array,(256,256,3))\n",
    "        flat_data_arr.append(img_resized.flatten())\n",
    "        target_arr.append(Categories.index(i))\n",
    "    print(f'loaded category:{i} successfully')\n",
    "flat_data=np.array(flat_data_arr)\n",
    "target=np.array(target_arr)\n",
    "df=pd.DataFrame(flat_data) #dataframe\n",
    "df['Target']=target\n",
    "\n",
    "print(df)"
   ]
  },
  {
   "cell_type": "code",
   "execution_count": 5,
   "id": "10f34bd5",
   "metadata": {},
   "outputs": [
    {
     "name": "stdout",
     "output_type": "stream",
     "text": [
      "Splitted Successfully\n"
     ]
    }
   ],
   "source": [
    "x=df.iloc[:,:-1]\n",
    "y=df.iloc[:,-1]\n",
    "x_train,x_test,y_train,y_test=train_test_split(x,y,test_size=0.20,random_state=77,stratify=y)\n",
    "print('Splitted Successfully')"
   ]
  },
  {
   "cell_type": "code",
   "execution_count": 6,
   "id": "be414b61",
   "metadata": {},
   "outputs": [
    {
     "name": "stdout",
     "output_type": "stream",
     "text": [
      "The training of the model is started, please wait for while as it may take few minutes to complete\n",
      "The Model is trained well with the given images\n"
     ]
    }
   ],
   "source": [
    "print(\"The training of the model is started, please wait for while as it may take few minutes to complete\")\n",
    "model=svm.SVC(kernel='rbf',gamma=0.0001,C=1000, probability=True,random_state=0)\n",
    "model.fit(x_train,y_train)\n",
    "print('The Model is trained well with the given images')"
   ]
  },
  {
   "cell_type": "code",
   "execution_count": 14,
   "id": "ed5a98e9",
   "metadata": {},
   "outputs": [
    {
     "name": "stdout",
     "output_type": "stream",
     "text": [
      "The predicted Data is :\n",
      "[1 1 1 1 1 1 1 1 1 1 1 1 1 0 1 1 1 1 1 1 1 0 1 1 1 1 1 1 1 1 1 1 0 1 1 0 1\n",
      " 1 1 1 1 1 1 0 1 1 1 1 0 1 1 1 1 1 1 1 1 1 1 1 0 1 1 1 1 1 1 1 1 1 0 1 1 1\n",
      " 1 1 1 1 1 1 1 1 0 0 1 1 1 1 1 1 1 1 1 1 1 1 1 1 1 0 1 1 1 0 0 1 1 1 1 1 1\n",
      " 0 1 1 1 1 1 1 1 1 1 1 1 1 1 1 1 1 1 1 1 1 1 0 1 1 1 1 1 1 1 1 1 1 1 1 1 1\n",
      " 1 1 0 1 1 1 1 1 0 1 1 1 0 1 1 1 1 1 1 1 1 1 1 1 1 1 0 0 0 1 1 1 1 1 1 1 1\n",
      " 1 1 1 1 1 1 1 1 0 1 1 1 1 1 1 1 1 1 1 1 1 0 1 0 1 1 1 1 1 1 1 1 1 1 1 1 0\n",
      " 1 1 1 1 1 1 0 1 1 0 1 1 1 0 0 0 1 1 1 1 1 1 1 0 1 1 1 1 1 1 1 1 1 0 1 1 1\n",
      " 1 1 1 1 0 1 1 1 1 1 0 1 1 1 1 1 1 1 1 1 1 1 1 1 1 1 0 1 0 1 1 0 1 1 1 0 0\n",
      " 0 1 1 1 1 1 1 1 1 1 1 1 1 1 1 1 0 1 1 1 1 1 1 1 1 1 0 1 1 1 1 1 1 1 1 1 1\n",
      " 1 1 0 1 1 0 1 1 1 1 1 1 1 1 1 1 1 1 0 1 1 1 1 1 1 1 1 1 1 1 0 1 1 1 1 1 0\n",
      " 1 1 1 1 1 1 1 1 1 1 1 1 1 1 0 1 1 0 1 1 1 1 1 1 0 0 1 1 1 0 1 0 1 1 1 1 1\n",
      " 1 1 1 1 0 1 1 1 0 1 1 1 1 1 1 1 1 1 1 1 1 1 1 1 1 1 0 1 1 0 0 1 1 1 1 1 1\n",
      " 1 1 1 1 1 1 1 1 0 0 0 1 1 0 0 1 1 0 1 1 1 1 1 1 1 1 1 1 1 1 1 1 1 1 1 1 1\n",
      " 1 1 1 1 1 1 1 1 1 1 1 0 1 1 1 1 1 1 1 0 1 1 1 1 1 0 1 1 1 1 0 1 1 1 1 1 1\n",
      " 1 1 1 1 1 1 1 1 0 1 1 1 1 0 0 1 1 1 0 1 1 1 1 1 1 1 1 0 1 1 1 1 1 1 1 1 1\n",
      " 1 1 1 1 1 1 1 1 0 1 0 1 1 1 1 1 1 0 1 1 1 1 1 1 1 1 1 1 0 1 0 1 1 1 1 1 1\n",
      " 0 1 1 1 0 1 0 1]\n",
      "The actual data is:\n",
      "[1 1 1 1 1 1 1 1 1 1 1 1 1 0 0 1 1 1 1 1 1 0 1 1 1 1 1 1 1 1 0 1 0 1 1 0 1\n",
      " 1 1 1 1 1 1 0 1 1 1 1 0 1 1 1 1 1 1 1 1 1 1 1 0 1 1 1 1 1 0 1 0 1 0 1 1 1\n",
      " 1 1 1 1 1 1 1 1 0 0 1 1 1 1 1 0 1 1 1 1 1 1 1 1 1 1 1 1 1 0 1 1 1 1 1 1 1\n",
      " 0 1 1 1 1 1 1 1 1 1 1 1 0 1 1 1 1 1 1 1 1 1 0 1 1 1 1 1 1 1 1 1 1 1 1 1 1\n",
      " 1 1 0 1 1 1 1 1 1 1 1 1 0 1 1 1 1 1 1 1 1 1 1 1 1 1 0 0 0 1 1 1 1 1 1 1 1\n",
      " 1 1 1 1 1 1 1 1 0 1 1 1 0 1 1 1 1 1 1 1 1 0 1 0 1 1 1 1 1 1 1 1 1 1 1 1 1\n",
      " 1 1 1 1 1 1 0 1 1 0 1 1 1 0 0 1 1 1 1 1 1 1 1 0 1 1 1 1 1 1 1 0 1 0 1 1 1\n",
      " 1 1 1 1 0 1 1 0 1 1 0 1 0 1 1 1 1 1 1 1 1 1 1 1 1 1 0 1 0 1 0 0 1 1 1 1 0\n",
      " 0 1 1 1 1 1 1 1 1 1 1 1 1 1 1 1 0 1 1 1 0 1 1 1 1 1 0 1 1 1 1 1 1 1 1 1 1\n",
      " 1 1 0 1 1 0 1 1 1 1 1 1 1 1 1 1 1 1 0 0 1 1 1 1 1 1 1 1 1 1 0 1 1 1 1 0 0\n",
      " 1 1 1 1 1 1 1 1 1 1 1 1 1 1 1 1 1 0 1 1 1 1 1 1 0 1 1 1 1 0 1 0 1 1 1 1 1\n",
      " 1 1 1 0 0 1 1 1 0 1 1 1 1 1 1 1 1 1 1 1 1 1 1 1 1 1 0 1 1 0 1 1 1 1 1 1 1\n",
      " 1 1 1 1 1 1 1 1 0 0 0 1 1 0 0 1 1 0 1 1 1 1 1 1 1 1 1 1 1 1 1 1 1 1 1 1 1\n",
      " 1 1 1 1 1 1 1 1 1 0 1 0 1 1 1 1 1 1 1 1 1 1 1 1 1 0 1 1 1 1 0 1 1 1 0 1 1\n",
      " 1 1 1 1 1 1 1 1 1 1 1 1 1 0 1 1 1 1 0 1 1 0 1 1 1 1 0 0 1 1 1 1 1 1 1 1 0\n",
      " 1 1 1 1 1 1 1 1 0 1 0 1 1 1 1 1 0 0 1 1 1 1 1 1 0 1 1 1 0 1 0 1 1 1 1 1 1\n",
      " 0 1 1 1 0 1 0 1]\n",
      "The model is 94.33333333333334% accurate\n"
     ]
    }
   ],
   "source": [
    "y_pred=model.predict(x_test)\n",
    "print(\"The predicted Data is :\")\n",
    "print(y_pred)\n",
    "print(\"The actual data is:\")\n",
    "print(np.array(y_test))\n",
    "print(f\"The model is {accuracy_score(y_pred,y_test)*100}% accurate\")"
   ]
  }
 ],
 "metadata": {
  "kernelspec": {
   "display_name": "tf2x",
   "language": "python",
   "name": "tf2x"
  },
  "language_info": {
   "codemirror_mode": {
    "name": "ipython",
    "version": 3
   },
   "file_extension": ".py",
   "mimetype": "text/x-python",
   "name": "python",
   "nbconvert_exporter": "python",
   "pygments_lexer": "ipython3",
   "version": "3.8.5"
  }
 },
 "nbformat": 4,
 "nbformat_minor": 5
}
